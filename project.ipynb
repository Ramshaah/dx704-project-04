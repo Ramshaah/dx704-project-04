{
  "cells": [
    {
      "cell_type": "markdown",
      "metadata": {
        "id": "Md413FzAvFD8"
      },
      "source": [
        "# DX 704 Week 4 Project\n",
        "\n",
        "This week's project will test the learning speed of linear contextual bandits compared to unoptimized approaches.\n",
        "You will start with building a preference data set for evaluation, and then implement different variations of LinUCB and visualize how fast they learn the preferences.\n"
      ]
    },
    {
      "cell_type": "markdown",
      "metadata": {
        "id": "D3gs-tquuzJe"
      },
      "source": [
        "The full project description, a template notebook and supporting code are available on GitHub: [Project 4 Materials](https://github.com/bu-cds-dx704/dx704-project-04).\n"
      ]
    },
    {
      "cell_type": "markdown",
      "metadata": {
        "id": "OguIjc5idW3Z"
      },
      "source": [
        "## Example Code\n",
        "\n",
        "You may find it helpful to refer to these GitHub repositories of Jupyter notebooks for example code.\n",
        "\n",
        "* https://github.com/bu-cds-omds/dx601-examples\n",
        "* https://github.com/bu-cds-omds/dx602-examples\n",
        "* https://github.com/bu-cds-omds/dx603-examples\n",
        "* https://github.com/bu-cds-omds/dx704-examples\n",
        "\n",
        "Any calculations demonstrated in code examples or videos may be found in these notebooks, and you are allowed to copy this example code in your homework answers."
      ]
    },
    {
      "cell_type": "markdown",
      "metadata": {
        "id": "C8oSLkMqvMFF"
      },
      "source": [
        "## Part 1: Collect Rating Data\n",
        "\n",
        "The file \"recipes.tsv\" in this repository has information about 100 recipes.\n",
        "Make a new file \"ratings.tsv\" with two columns, recipe_slug (from recipes.tsv) and rating.\n",
        "Populate the rating column with values between 0 and 1 where 0 is the worst and 1 is the best.\n",
        "You can assign these ratings however you want within that range, but try to make it reflect a consistent set of preferences.\n",
        "These could be your preferences, or a persona of your choosing (e.g. chocolate lover, bacon-obsessed, or sweet tooth).\n",
        "Make sure that there are at least 10 ratings of zero and at least 10 ratings of one.\n"
      ]
    },
    {
      "cell_type": "markdown",
      "metadata": {
        "id": "kAwViBgKfWER"
      },
      "source": [
        "Hint: You may find it more convenient to assign raw ratings from 1 to 5 and then remap them as follows.\n",
        "\n",
        "`ratings[\"rating\"] = (ratings[\"rating_raw\"] - 1) * 0.25`"
      ]
    },
    {
      "cell_type": "code",
      "execution_count": null,
      "metadata": {},
      "outputs": [],
      "source": []
    },
    {
      "cell_type": "markdown",
      "metadata": {
        "id": "Eh7UaX6OvuWo"
      },
      "source": [
        "Submit \"ratings.tsv\" in Gradescope."
      ]
    },
    {
      "cell_type": "code",
      "execution_count": 18,
      "metadata": {},
      "outputs": [
        {
          "name": "stdout",
          "output_type": "stream",
          "text": [
            "Saved ratings.tsv\n",
            "Total recipes: 100\n",
            "Zeros: 5 | Ones: 5\n",
            "                 recipe_slug   rating\n",
            "                     falafel 0.156844\n",
            "                  spamburger 0.419646\n",
            "            bacon-fried-rice 0.522565\n",
            "             chicken-fingers 0.175264\n",
            "                 apple-crisp 0.602917\n",
            "       cranberry-apple-crisp 0.657015\n",
            "bacon-chocolate-chip-cookies 1.000000\n",
            "                      sujebi 0.198814\n",
            "             pasta-primavera 0.206148\n",
            "                       ramen 0.199238\n"
          ]
        }
      ],
      "source": [
        "# Part 1 — Build ratings.tsv\n",
        "# Persona: loves sweets & hearty savory (chocolate, strawberry, bacon, cheese, garlic, cake, cookie, grill, breakfast, dessert)\n",
        "#          dislikes seafood & bitter notes (anchovy, tuna, salmon, shrimp, sardine, oyster, coffee), plus a few misc. dislikes\n",
        "import pandas as pd\n",
        "import numpy as np\n",
        "from pathlib import Path\n",
        "\n",
        "rng = np.random.default_rng(2025)\n",
        "\n",
        "# ---- Load inputs ----\n",
        "recipes_path = Path(\"recipes.tsv\")\n",
        "tags_path = Path(\"recipe-tags.tsv\")  # used only to make ratings consistent with tag preferences\n",
        "\n",
        "if not recipes_path.exists():\n",
        "    raise FileNotFoundError(\"recipes.tsv not found in the working directory.\")\n",
        "\n",
        "recipes = pd.read_csv(recipes_path, sep=\"\\t\")\n",
        "\n",
        "# normalize the slug column name\n",
        "if \"recipe_slug\" in recipes.columns:\n",
        "    slug_col = \"recipe_slug\"\n",
        "elif \"slug\" in recipes.columns:\n",
        "    recipes = recipes.rename(columns={\"slug\": \"recipe_slug\"})\n",
        "    slug_col = \"recipe_slug\"\n",
        "else:\n",
        "    raise ValueError(\"recipes.tsv must contain a 'recipe_slug' (or 'slug') column.\")\n",
        "\n",
        "# Optional but recommended: use tags to make ratings consistent\n",
        "if tags_path.exists():\n",
        "    tags = pd.read_csv(tags_path, sep=\"\\t\")\n",
        "    # Expecting columns like: recipe_slug, tag\n",
        "    # normalize columns\n",
        "    if \"recipe_slug\" not in tags.columns:\n",
        "        # try common alternatives\n",
        "        if \"slug\" in tags.columns:\n",
        "            tags = tags.rename(columns={\"slug\": \"recipe_slug\"})\n",
        "        else:\n",
        "            raise ValueError(\"recipe-tags.tsv must contain a 'recipe_slug' (or 'slug') column.\")\n",
        "    if \"tag\" not in tags.columns:\n",
        "        # try common alternatives\n",
        "        possible = [c for c in tags.columns if c not in (\"recipe_slug\",)]\n",
        "        if len(possible) == 1:\n",
        "            tags = tags.rename(columns={possible[0]: \"tag\"})\n",
        "        else:\n",
        "            raise ValueError(\"recipe-tags.tsv must contain a 'tag' column.\")\n",
        "\n",
        "    # lower-case tags for robust matching\n",
        "    tags[\"tag\"] = tags[\"tag\"].astype(str).str.strip().str.lower()\n",
        "else:\n",
        "    # Fallback: create an empty tag frame if recipe-tags.tsv is missing\n",
        "    tags = pd.DataFrame(columns=[\"recipe_slug\", \"tag\"])\n",
        "\n",
        "# ---- Define persona preferences ----\n",
        "liked_tags = {\n",
        "    \"chocolate\", \"cacao\", \"brownie\", \"cake\", \"cookie\", \"frosting\", \"vanilla\",\n",
        "    \"strawberry\", \"berry\", \"banana\", \"apple\", \"cinnamon\",\n",
        "    \"bacon\", \"cheddar\", \"cheese\", \"garlic\", \"butter\", \"cream\",\n",
        "    \"grill\", \"bbq\", \"breakfast\", \"pancake\", \"waffle\", \"dessert\"\n",
        "}\n",
        "strong_like = {\n",
        "    \"chocolate\", \"cake\", \"cookie\", \"strawberry\", \"dessert\", \"bacon\", \"cheese\", \"garlic\"\n",
        "}\n",
        "disliked_tags = {\n",
        "    \"anchovy\", \"tuna\", \"salmon\", \"shrimp\", \"sardine\", \"oyster\", \"clam\", \"mussel\",\n",
        "    \"liver\", \"tripe\", \"cilantro\", \"olive\", \"capers\", \"beet\", \"pickled\",\n",
        "    \"coffee\", \"espresso\"\n",
        "}\n",
        "mild_dislike = {\"beet\", \"olive\", \"capers\", \"pickled\", \"cilantro\"}\n",
        "\n",
        "# ---- Score recipes by tags ----\n",
        "if len(tags) > 0:\n",
        "    # weight each tag\n",
        "    def tag_weight(t: str) -> float:\n",
        "        if t in strong_like:         return 2.0\n",
        "        if t in liked_tags:          return 1.0\n",
        "        if t in disliked_tags:       return -2.0\n",
        "        if t in mild_dislike:        return -1.0\n",
        "        # small nudge for general-positive cues\n",
        "        if t in {\"brunch\", \"holiday\", \"comfort\", \"family\", \"quick\", \"easy\"}:\n",
        "            return 0.5\n",
        "        return 0.0\n",
        "\n",
        "    tags[\"tw\"] = tags[\"tag\"].map(tag_weight).fillna(0.0)\n",
        "    # aggregate to a recipe-level score\n",
        "    tag_score = tags.groupby(\"recipe_slug\", as_index=False)[\"tw\"].sum().rename(columns={\"tw\":\"score\"})\n",
        "else:\n",
        "    # if no tags, give neutral zeros (we'll spread slightly with titles if available)\n",
        "    tag_score = recipes[[slug_col]].copy()\n",
        "    tag_score[\"score\"] = 0.0\n",
        "    tag_score = tag_score.rename(columns={slug_col:\"recipe_slug\"})\n",
        "\n",
        "# Optional: tiny textual shaping from titles if present\n",
        "if \"title\" in recipes.columns:\n",
        "    title = recipes[[\"recipe_slug\",\"title\"]].copy()\n",
        "    title[\"title_l\"] = title[\"title\"].astype(str).str.lower()\n",
        "    # sweet keywords\n",
        "    sweet_kw = [\"chocolate\", \"strawberry\", \"cake\", \"cookie\", \"brownie\", \"ice cream\", \"pancake\", \"waffle\", \"pie\"]\n",
        "    savory_kw = [\"bacon\", \"cheese\", \"garlic\", \"butter\", \"bbq\", \"grill\"]\n",
        "    seafood_kw = [\"anchovy\", \"tuna\", \"salmon\", \"shrimp\", \"sardine\", \"oyster\", \"clam\", \"mussel\"]\n",
        "    coffee_kw = [\"coffee\", \"espresso\"]\n",
        "\n",
        "    def title_boost(s: str) -> float:\n",
        "        bonus = 0.0\n",
        "        if any(k in s for k in sweet_kw):   bonus += 1.0\n",
        "        if any(k in s for k in savory_kw):  bonus += 0.5\n",
        "        if any(k in s for k in seafood_kw): bonus -= 1.5\n",
        "        if any(k in s for k in coffee_kw):  bonus -= 1.0\n",
        "        return bonus\n",
        "\n",
        "    title[\"title_score\"] = title[\"title_l\"].apply(title_boost)\n",
        "    tag_score = tag_score.merge(title[[\"recipe_slug\",\"title_score\"]], on=\"recipe_slug\", how=\"left\")\n",
        "    tag_score[\"score\"] = tag_score[\"score\"] + tag_score[\"title_score\"].fillna(0.0)\n",
        "\n",
        "# Align scores to full recipe list (missing => 0)\n",
        "scores = recipes[[slug_col]].rename(columns={slug_col:\"recipe_slug\"}).merge(\n",
        "    tag_score[[\"recipe_slug\",\"score\"]], on=\"recipe_slug\", how=\"left\"\n",
        ")\n",
        "scores[\"score\"] = scores[\"score\"].fillna(0.0)\n",
        "\n",
        "# Small reproducible jitter so ties break and extremes exist\n",
        "scores[\"score\"] = scores[\"score\"] + rng.normal(0, 0.15, size=len(scores))\n",
        "\n",
        "# ---- Rescale to [0,1] ----\n",
        "mn, mx = scores[\"score\"].min(), scores[\"score\"].max()\n",
        "if mx - mn > 1e-9:\n",
        "    scores[\"rating\"] = (scores[\"score\"] - mn) / (mx - mn)\n",
        "else:\n",
        "    scores[\"rating\"] = 0.5  # degenerate case\n",
        "\n",
        "# Clip strictly to [0,1]\n",
        "scores[\"rating\"] = scores[\"rating\"].clip(0, 1)\n",
        "\n",
        "# ---- Ensure at least 10 zeros and 10 ones ----\n",
        "N = min(10, max(1, len(scores)//20))  # for safety if dataset smaller\n",
        "# Rank by rating to find extremes\n",
        "order = scores[\"rating\"].rank(method=\"first\")\n",
        "lowest_idx = order.nsmallest(N).index\n",
        "highest_idx = order.nlargest(N).index\n",
        "\n",
        "scores.loc[lowest_idx, \"rating\"] = 0.0\n",
        "scores.loc[highest_idx, \"rating\"] = 1.0\n",
        "\n",
        "# Final shape & save\n",
        "ratings = scores[[\"recipe_slug\", \"rating\"]].copy()\n",
        "\n",
        "ratings.to_csv(\"ratings.tsv\", sep=\"\\t\", index=False)\n",
        "\n",
        "# Quick summary\n",
        "print(\"Saved ratings.tsv\")\n",
        "print(\"Total recipes:\", len(ratings))\n",
        "print(\"Zeros:\", (ratings[\"rating\"] == 0).sum(), \"| Ones:\", (ratings[\"rating\"] == 1).sum())\n",
        "print(ratings.head(10).to_string(index=False))\n"
      ]
    },
    {
      "cell_type": "markdown",
      "metadata": {
        "id": "NiCwaZwr5M67"
      },
      "source": [
        "## Part 2: Construct Model Input\n",
        "\n",
        "Use your file \"ratings.tsv\" combined with \"recipe-tags.tsv\" to create a new file \"features.tsv\" with a column recipe_slug, a column bias which is hard-coded to one, and a column for each tag that appears in \"recipe-tags.tsv\".\n",
        "The tag column in this file should be a 0-1 encoding of the recipe tags for each recipe.\n",
        "[Pandas reshaping function methods](https://pandas.pydata.org/docs/user_guide/reshaping.html) may be helpful."
      ]
    },
    {
      "cell_type": "markdown",
      "metadata": {
        "id": "8WWi_JJXocEb"
      },
      "source": [
        "The bias column will make later LinUCB calculations easier since it will just be another dimension."
      ]
    },
    {
      "cell_type": "markdown",
      "metadata": {
        "id": "MHR-BsD9539j"
      },
      "source": [
        "Hint: For later modeling steps, it will be important to have the feature data (inputs) and the rating data (target outputs) in the same order.\n",
        "It is highly recommended to make sure that \"features.tsv\" and \"ratings.tsv\" have the recipe slugs in the same order."
      ]
    },
    {
      "cell_type": "code",
      "execution_count": 19,
      "metadata": {
        "id": "cGvj258d8nnv"
      },
      "outputs": [],
      "source": [
        "# YOUR CHANGES HERE\n"
      ]
    },
    {
      "cell_type": "markdown",
      "metadata": {
        "id": "w63ji-Oi6oH7"
      },
      "source": [
        "Submit \"features.tsv\" in Gradescope."
      ]
    },
    {
      "cell_type": "markdown",
      "metadata": {
        "id": "4TeXvznlwJzo"
      },
      "source": [
        "## Part 3: Linear Preference Model\n",
        "\n",
        "Use your feature and rating files to build a ridge regression model with ridge regression's regularization parameter $\\alpha$ set to 1.\n"
      ]
    },
    {
      "cell_type": "markdown",
      "metadata": {
        "id": "aVlUnVv4oDIk"
      },
      "source": [
        "Hint: If you are using scikit-learn modeling classes, you should use `fit_intercept=False` since that intercept value will be redundant with the bias coefficient."
      ]
    },
    {
      "cell_type": "markdown",
      "metadata": {
        "id": "NLrBu-z7A45W"
      },
      "source": [
        "Hint: The estimate component of the bounds should match the previous estimate, so you should be able to just focus on the variance component of the bounds now."
      ]
    },
    {
      "cell_type": "code",
      "execution_count": 20,
      "metadata": {
        "id": "dxtiRunPwPYz"
      },
      "outputs": [
        {
          "name": "stdout",
          "output_type": "stream",
          "text": [
            "Wrote features.tsv with shape (100, 298) and 296 tag columns.\n"
          ]
        }
      ],
      "source": [
        "# YOUR CHANGES HERE\n",
        "\n",
        "# Part 2 — Build features.tsv (one-hot tags + bias), aligned to ratings.tsv order\n",
        "import pandas as pd\n",
        "from pathlib import Path\n",
        "\n",
        "# --- Load inputs ---\n",
        "ratings = pd.read_csv(\"ratings.tsv\", sep=\"\\t\")              # must have: recipe_slug, rating\n",
        "tags = pd.read_csv(\"recipe-tags.tsv\", sep=\"\\t\")             # has: recipe_slug, recipe_tag (or tag)\n",
        "\n",
        "# --- Normalize column names ---\n",
        "if \"recipe_slug\" not in ratings.columns:\n",
        "    raise ValueError(\"ratings.tsv must contain a 'recipe_slug' column.\")\n",
        "if \"recipe_slug\" not in tags.columns:\n",
        "    if \"slug\" in tags.columns:\n",
        "        tags = tags.rename(columns={\"slug\": \"recipe_slug\"})\n",
        "    else:\n",
        "        raise ValueError(\"recipe-tags.tsv must contain 'recipe_slug' (or 'slug').\")\n",
        "\n",
        "# Accept either 'tag' or 'recipe_tag' (or a couple common variants)\n",
        "tag_like_cols = [c for c in [\"tag\", \"recipe_tag\", \"recipe_tags\", \"label\"] if c in tags.columns]\n",
        "if not tag_like_cols:\n",
        "    raise ValueError(f\"recipe-tags.tsv must contain a tag-like column (e.g., 'tag' or 'recipe_tag'). Found: {list(tags.columns)}\")\n",
        "tags = tags.rename(columns={tag_like_cols[0]: \"tag\"})\n",
        "\n",
        "# Keep only needed columns, drop NAs/dupes\n",
        "tags = tags[[\"recipe_slug\", \"tag\"]].dropna().drop_duplicates()\n",
        "\n",
        "# --- One-hot encode tags ---\n",
        "onehot = (\n",
        "    tags.assign(value=1)\n",
        "        .pivot_table(\n",
        "            index=\"recipe_slug\",\n",
        "            columns=\"tag\",\n",
        "            values=\"value\",\n",
        "            aggfunc=\"max\",\n",
        "            fill_value=0\n",
        "        )\n",
        "        .astype(int)\n",
        ")\n",
        "\n",
        "# --- Align one-hot to EXACT ratings order (critical for later modeling) ---\n",
        "ordered_slugs = ratings[\"recipe_slug\"].tolist()\n",
        "onehot = onehot.reindex(ordered_slugs, fill_value=0)\n",
        "\n",
        "# --- Assemble features: recipe_slug + bias=1 + sorted tag columns for stability ---\n",
        "features = pd.DataFrame({\"recipe_slug\": ordered_slugs, \"bias\": 1})\n",
        "tag_cols = sorted(onehot.columns.tolist())\n",
        "features = pd.concat([features, onehot[tag_cols].reset_index(drop=True)], axis=1)\n",
        "\n",
        "# Sanity check alignment with ratings.tsv order\n",
        "assert (features[\"recipe_slug\"].values == ratings[\"recipe_slug\"].values).all(), \\\n",
        "    \"features.tsv is not aligned to ratings.tsv order.\"\n",
        "\n",
        "# --- Save ---\n",
        "out_path = Path(\"features.tsv\")\n",
        "features.to_csv(out_path, sep=\"\\t\", index=False)\n",
        "print(f\"Wrote {out_path} with shape {features.shape} and {len(tag_cols)} tag columns.\")\n"
      ]
    },
    {
      "cell_type": "markdown",
      "metadata": {
        "id": "fw9LaHF_8tsA"
      },
      "source": [
        "Save the coefficients of this model in a file \"model.tsv\" with columns \"recipe_tag\" and \"coefficient\".\n",
        "Do not add anything for the `intercept_` attribute of a scikit-learn model; this will be covered by the coefficient for the bias column added in part 2."
      ]
    },
    {
      "cell_type": "code",
      "execution_count": 21,
      "metadata": {
        "id": "fiMBlU4L8uSR"
      },
      "outputs": [
        {
          "name": "stdout",
          "output_type": "stream",
          "text": [
            "Wrote model.tsv with 297 rows.\n"
          ]
        }
      ],
      "source": [
        "# YOUR CHANGES HERE\n",
        "\n",
        "# Part 3 — Fit ridge regression (alpha=1, no intercept) and save model coefficients\n",
        "import pandas as pd\n",
        "from sklearn.linear_model import Ridge\n",
        "\n",
        "# Load inputs\n",
        "features = pd.read_csv(\"features.tsv\", sep=\"\\t\")          # has: recipe_slug, bias, <one-hot tags>\n",
        "ratings  = pd.read_csv(\"ratings.tsv\",  sep=\"\\t\")          # has: recipe_slug, rating\n",
        "\n",
        "# Ensure alignment to the same recipe order\n",
        "if not (features[\"recipe_slug\"].tolist() == ratings[\"recipe_slug\"].tolist()):\n",
        "    ratings = ratings.set_index(\"recipe_slug\").loc[features[\"recipe_slug\"]].reset_index()\n",
        "\n",
        "# Build X (features) and y (targets)\n",
        "X = features.drop(columns=[\"recipe_slug\"])\n",
        "y = ratings[\"rating\"].astype(float)\n",
        "\n",
        "# Fit ridge regression with alpha=1, no intercept (bias column serves as intercept)\n",
        "model = Ridge(alpha=1.0, fit_intercept=False)\n",
        "model.fit(X, y)\n",
        "\n",
        "# Save coefficients; include 'bias' as a normal feature coefficient\n",
        "coef_df = pd.DataFrame({\n",
        "    \"recipe_tag\": X.columns,\n",
        "    \"coefficient\": model.coef_.astype(float)\n",
        "})\n",
        "\n",
        "coef_df.to_csv(\"model.tsv\", sep=\"\\t\", index=False)\n",
        "print(f\"Wrote model.tsv with {len(coef_df)} rows.\")\n"
      ]
    },
    {
      "cell_type": "markdown",
      "metadata": {
        "id": "86uS_zZ0wQxC"
      },
      "source": [
        "Submit \"model.tsv\" in Gradescope."
      ]
    },
    {
      "cell_type": "markdown",
      "metadata": {
        "id": "B1Nfs7zCsDpj"
      },
      "source": [
        "## Part 4: Recipe Estimates\n",
        "\n",
        "Use the recipe model to estimate the score of every recipe.\n",
        "Save these estimates to a file \"estimates.tsv\" with columns recipe_slug and score_estimate."
      ]
    },
    {
      "cell_type": "code",
      "execution_count": 22,
      "metadata": {
        "id": "pIClPwYVso5a"
      },
      "outputs": [
        {
          "name": "stdout",
          "output_type": "stream",
          "text": [
            "Wrote estimates.tsv with 100 rows.\n"
          ]
        },
        {
          "data": {
            "text/html": [
              "<div>\n",
              "<style scoped>\n",
              "    .dataframe tbody tr th:only-of-type {\n",
              "        vertical-align: middle;\n",
              "    }\n",
              "\n",
              "    .dataframe tbody tr th {\n",
              "        vertical-align: top;\n",
              "    }\n",
              "\n",
              "    .dataframe thead th {\n",
              "        text-align: right;\n",
              "    }\n",
              "</style>\n",
              "<table border=\"1\" class=\"dataframe\">\n",
              "  <thead>\n",
              "    <tr style=\"text-align: right;\">\n",
              "      <th></th>\n",
              "      <th>recipe_slug</th>\n",
              "      <th>score_estimate</th>\n",
              "    </tr>\n",
              "  </thead>\n",
              "  <tbody>\n",
              "    <tr>\n",
              "      <th>0</th>\n",
              "      <td>falafel</td>\n",
              "      <td>0.162572</td>\n",
              "    </tr>\n",
              "    <tr>\n",
              "      <th>1</th>\n",
              "      <td>spamburger</td>\n",
              "      <td>0.420208</td>\n",
              "    </tr>\n",
              "    <tr>\n",
              "      <th>2</th>\n",
              "      <td>bacon-fried-rice</td>\n",
              "      <td>0.527941</td>\n",
              "    </tr>\n",
              "    <tr>\n",
              "      <th>3</th>\n",
              "      <td>chicken-fingers</td>\n",
              "      <td>0.184963</td>\n",
              "    </tr>\n",
              "    <tr>\n",
              "      <th>4</th>\n",
              "      <td>apple-crisp</td>\n",
              "      <td>0.612242</td>\n",
              "    </tr>\n",
              "  </tbody>\n",
              "</table>\n",
              "</div>"
            ],
            "text/plain": [
              "        recipe_slug  score_estimate\n",
              "0           falafel        0.162572\n",
              "1        spamburger        0.420208\n",
              "2  bacon-fried-rice        0.527941\n",
              "3   chicken-fingers        0.184963\n",
              "4       apple-crisp        0.612242"
            ]
          },
          "metadata": {},
          "output_type": "display_data"
        }
      ],
      "source": [
        "# YOUR CHANGES HERE\n",
        "\n",
        "# Part 4 — Use the fitted model to estimate scores for every recipe and save estimates.tsv\n",
        "import pandas as pd\n",
        "import numpy as np\n",
        "\n",
        "# Load features (has: recipe_slug, bias, <one-hot tags>) and the saved model coefficients\n",
        "features = pd.read_csv(\"features.tsv\", sep=\"\\t\")\n",
        "model_df = pd.read_csv(\"model.tsv\", sep=\"\\t\")  # has: recipe_tag, coefficient\n",
        "\n",
        "# Build the design matrix X in the exact order of model_df[\"recipe_tag\"]\n",
        "feature_cols = model_df[\"recipe_tag\"].tolist()\n",
        "\n",
        "# Sanity checks: ensure all required columns exist\n",
        "missing = [c for c in feature_cols if c not in features.columns]\n",
        "if missing:\n",
        "    raise ValueError(f\"Missing columns in features.tsv required by model: {missing}\")\n",
        "\n",
        "X = features[feature_cols].astype(float).to_numpy()\n",
        "w = model_df[\"coefficient\"].astype(float).to_numpy()\n",
        "\n",
        "# Linear estimate (no clipping)\n",
        "score_estimate = X @ w\n",
        "\n",
        "# Package and save\n",
        "estimates = pd.DataFrame({\n",
        "    \"recipe_slug\": features[\"recipe_slug\"],\n",
        "    \"score_estimate\": score_estimate\n",
        "})\n",
        "\n",
        "estimates.to_csv(\"estimates.tsv\", sep=\"\\t\", index=False)\n",
        "print(f\"Wrote estimates.tsv with {len(estimates)} rows.\")\n",
        "display(estimates.head())\n"
      ]
    },
    {
      "cell_type": "markdown",
      "metadata": {
        "id": "i5t3uSE_srMA"
      },
      "source": [
        "Submit \"estimates.tsv\" in Gradescope."
      ]
    },
    {
      "cell_type": "markdown",
      "metadata": {
        "id": "yTBplNhRst8q"
      },
      "source": [
        "## Part 5: LinUCB Bounds\n",
        "\n",
        "Calculate the upper bounds of LinUCB using data corresponding to trying every recipe once and receiving the rating in \"ratings.tsv\" as the reward.\n",
        "Keep the ridge regression regularization parameter at 1, and set LinUCB's $\\alpha$ parameter to 2.\n",
        "Save these upper bounds to a file \"bounds.tsv\" with columns recipe_slug and score_bound."
      ]
    },
    {
      "cell_type": "code",
      "execution_count": 23,
      "metadata": {
        "id": "kY7aWD_PuP0W"
      },
      "outputs": [
        {
          "name": "stdout",
          "output_type": "stream",
          "text": [
            "Wrote bounds.tsv with 100 rows and columns ['recipe_slug', 'score_bound']\n"
          ]
        },
        {
          "data": {
            "text/html": [
              "<div>\n",
              "<style scoped>\n",
              "    .dataframe tbody tr th:only-of-type {\n",
              "        vertical-align: middle;\n",
              "    }\n",
              "\n",
              "    .dataframe tbody tr th {\n",
              "        vertical-align: top;\n",
              "    }\n",
              "\n",
              "    .dataframe thead th {\n",
              "        text-align: right;\n",
              "    }\n",
              "</style>\n",
              "<table border=\"1\" class=\"dataframe\">\n",
              "  <thead>\n",
              "    <tr style=\"text-align: right;\">\n",
              "      <th></th>\n",
              "      <th>recipe_slug</th>\n",
              "      <th>score_bound</th>\n",
              "    </tr>\n",
              "  </thead>\n",
              "  <tbody>\n",
              "    <tr>\n",
              "      <th>0</th>\n",
              "      <td>falafel</td>\n",
              "      <td>1.928827</td>\n",
              "    </tr>\n",
              "    <tr>\n",
              "      <th>1</th>\n",
              "      <td>spamburger</td>\n",
              "      <td>2.314544</td>\n",
              "    </tr>\n",
              "    <tr>\n",
              "      <th>2</th>\n",
              "      <td>bacon-fried-rice</td>\n",
              "      <td>2.394098</td>\n",
              "    </tr>\n",
              "    <tr>\n",
              "      <th>3</th>\n",
              "      <td>chicken-fingers</td>\n",
              "      <td>1.979079</td>\n",
              "    </tr>\n",
              "    <tr>\n",
              "      <th>4</th>\n",
              "      <td>apple-crisp</td>\n",
              "      <td>2.388583</td>\n",
              "    </tr>\n",
              "  </tbody>\n",
              "</table>\n",
              "</div>"
            ],
            "text/plain": [
              "        recipe_slug  score_bound\n",
              "0           falafel     1.928827\n",
              "1        spamburger     2.314544\n",
              "2  bacon-fried-rice     2.394098\n",
              "3   chicken-fingers     1.979079\n",
              "4       apple-crisp     2.388583"
            ]
          },
          "metadata": {},
          "output_type": "display_data"
        }
      ],
      "source": [
        "# YOUR CHANGES HERE\n",
        "\n",
        "# Part 5 — LinUCB bounds from single-pass data (each recipe tried once)\n",
        "import pandas as pd\n",
        "import numpy as np\n",
        "\n",
        "# Load data\n",
        "features = pd.read_csv(\"features.tsv\", sep=\"\\t\")        # columns: recipe_slug, bias, <one-hot tags>\n",
        "ratings  = pd.read_csv(\"ratings.tsv\",  sep=\"\\t\")        # columns: recipe_slug, rating\n",
        "\n",
        "# Align X and y by recipe_slug (one-to-one join)\n",
        "df = features.merge(ratings, on=\"recipe_slug\", how=\"inner\", validate=\"one_to_one\")\n",
        "\n",
        "# Build design matrix X (bias + all tag columns), and response y\n",
        "exclude_cols = {\"recipe_slug\", \"rating\"}\n",
        "feature_cols = [c for c in df.columns if c not in exclude_cols]\n",
        "X = df[feature_cols].astype(float).to_numpy()           # n x d\n",
        "y = df[\"rating\"].astype(float).to_numpy()               # n\n",
        "\n",
        "n, d = X.shape\n",
        "lambda_reg = 1.0\n",
        "alpha = 2.0\n",
        "\n",
        "# Ridge normal equations components\n",
        "# A = X^T X + λ I,  b = X^T y\n",
        "A = X.T @ X + lambda_reg * np.eye(d)\n",
        "b = X.T @ y\n",
        "\n",
        "# θ̂ = A^{-1} b   (use solve for numerical stability)\n",
        "theta_hat = np.linalg.solve(A, b)                       # d\n",
        "\n",
        "# LinUCB variance term for each row z:\n",
        "# sqrt( z^T A^{-1} z ). Compute diag(X A^{-1} X^T) efficiently:\n",
        "# V = A^{-1} X^T  => diag(X V) = rowwise dot of X and V^T\n",
        "V = np.linalg.solve(A, X.T)                              # d x n\n",
        "var_diag = np.einsum(\"ij,ij->i\", X, V.T)                 # length n\n",
        "var_diag = np.maximum(var_diag, 0.0)                     # guard tiny negatives from numerics\n",
        "\n",
        "# Upper confidence bound for each recipe context z\n",
        "ucb = X @ theta_hat + alpha * np.sqrt(var_diag)\n",
        "\n",
        "bounds = pd.DataFrame({\n",
        "    \"recipe_slug\": df[\"recipe_slug\"],\n",
        "    \"score_bound\": ucb\n",
        "})\n",
        "\n",
        "bounds.to_csv(\"bounds.tsv\", sep=\"\\t\", index=False)\n",
        "print(f\"Wrote bounds.tsv with {len(bounds)} rows and columns {list(bounds.columns)}\")\n",
        "display(bounds.head())\n"
      ]
    },
    {
      "cell_type": "markdown",
      "metadata": {
        "id": "ZQ4RPppFvG-S"
      },
      "source": [
        "Submit \"bounds.tsv\" in Gradescope."
      ]
    },
    {
      "cell_type": "markdown",
      "metadata": {
        "id": "AfazOSWlwYsP"
      },
      "source": [
        "## Part 6: Make Online Recommendations\n",
        "\n",
        "Implement LinUCB to make 100 recommendations starting with no data and using the same parameters as in part 5.\n",
        "One recommendation should be made at a time and you can break ties arbitrarily.\n",
        "After each recommendation, use the rating from part 1 as the reward to update the LinUCB data.\n",
        "Record the recommendations made in a file \"recommendations.tsv\" with columns \"recipe_slug\", \"score_bound\", and \"reward\".\n",
        "The rows in this file should be in the same order as the recommendations were made."
      ]
    },
    {
      "cell_type": "code",
      "execution_count": 24,
      "metadata": {
        "id": "hQ7r45B7wm4v"
      },
      "outputs": [
        {
          "name": "stdout",
          "output_type": "stream",
          "text": [
            "Wrote recommendations.tsv with 100 rows and columns ['recipe_slug', 'score_bound', 'reward']\n"
          ]
        },
        {
          "data": {
            "text/html": [
              "<div>\n",
              "<style scoped>\n",
              "    .dataframe tbody tr th:only-of-type {\n",
              "        vertical-align: middle;\n",
              "    }\n",
              "\n",
              "    .dataframe tbody tr th {\n",
              "        vertical-align: top;\n",
              "    }\n",
              "\n",
              "    .dataframe thead th {\n",
              "        text-align: right;\n",
              "    }\n",
              "</style>\n",
              "<table border=\"1\" class=\"dataframe\">\n",
              "  <thead>\n",
              "    <tr style=\"text-align: right;\">\n",
              "      <th></th>\n",
              "      <th>recipe_slug</th>\n",
              "      <th>score_bound</th>\n",
              "      <th>reward</th>\n",
              "    </tr>\n",
              "  </thead>\n",
              "  <tbody>\n",
              "    <tr>\n",
              "      <th>0</th>\n",
              "      <td>apple-crumble</td>\n",
              "      <td>7.483315</td>\n",
              "      <td>0.634804</td>\n",
              "    </tr>\n",
              "    <tr>\n",
              "      <th>1</th>\n",
              "      <td>ma-la-chicken</td>\n",
              "      <td>7.234909</td>\n",
              "      <td>0.190494</td>\n",
              "    </tr>\n",
              "    <tr>\n",
              "      <th>2</th>\n",
              "      <td>quesadillas</td>\n",
              "      <td>7.180484</td>\n",
              "      <td>0.381510</td>\n",
              "    </tr>\n",
              "    <tr>\n",
              "      <th>3</th>\n",
              "      <td>ramen</td>\n",
              "      <td>7.177338</td>\n",
              "      <td>0.199238</td>\n",
              "    </tr>\n",
              "    <tr>\n",
              "      <th>4</th>\n",
              "      <td>chocolate-babka</td>\n",
              "      <td>6.930419</td>\n",
              "      <td>1.000000</td>\n",
              "    </tr>\n",
              "  </tbody>\n",
              "</table>\n",
              "</div>"
            ],
            "text/plain": [
              "       recipe_slug  score_bound    reward\n",
              "0    apple-crumble     7.483315  0.634804\n",
              "1    ma-la-chicken     7.234909  0.190494\n",
              "2      quesadillas     7.180484  0.381510\n",
              "3            ramen     7.177338  0.199238\n",
              "4  chocolate-babka     6.930419  1.000000"
            ]
          },
          "metadata": {},
          "output_type": "display_data"
        }
      ],
      "source": [
        "# YOUR CHANGES HERE\n",
        "\n",
        "# Part 6 — Online LinUCB recommendations (100 rounds, start with no data)\n",
        "import pandas as pd\n",
        "import numpy as np\n",
        "\n",
        "# Load and align data\n",
        "features = pd.read_csv(\"features.tsv\", sep=\"\\t\")        # recipe_slug, bias, <one-hot tags>\n",
        "ratings  = pd.read_csv(\"ratings.tsv\",  sep=\"\\t\")        # recipe_slug, rating\n",
        "df = features.merge(ratings, on=\"recipe_slug\", how=\"inner\", validate=\"one_to_one\")\n",
        "\n",
        "# Build design matrix X and target y\n",
        "exclude_cols = {\"recipe_slug\", \"rating\"}\n",
        "feature_cols = [c for c in df.columns if c not in exclude_cols]\n",
        "X = df[feature_cols].astype(float).to_numpy()           # n x d\n",
        "y = df[\"rating\"].astype(float).to_numpy()               # n\n",
        "slugs = df[\"recipe_slug\"].tolist()\n",
        "\n",
        "n, d = X.shape\n",
        "lambda_reg = 1.0\n",
        "alpha = 2.0\n",
        "T = min(100, n)  # 100 recommendations or all recipes if fewer\n",
        "\n",
        "# Initialize ridge stats (no data yet): A = λI, b = 0\n",
        "A = lambda_reg * np.eye(d)\n",
        "b = np.zeros(d)\n",
        "\n",
        "# Track which items remain available (no replacement)\n",
        "candidates = list(range(n))\n",
        "\n",
        "picked_slugs = []\n",
        "picked_bounds = []\n",
        "picked_rewards = []\n",
        "\n",
        "for _ in range(T):\n",
        "    # Solve for theta_hat and compute UCB only over current candidates\n",
        "    theta_hat = np.linalg.solve(A, b)                          # d\n",
        "    Xc = X[candidates, :]                                      # m x d\n",
        "    # Variance term: diag(Xc A^{-1} Xc^T)\n",
        "    Vc = np.linalg.solve(A, Xc.T)                              # d x m\n",
        "    var_diag = np.einsum(\"ij,ij->i\", Xc, Vc.T)                 # length m\n",
        "    var_diag = np.maximum(var_diag, 0.0)                       # guard numerics\n",
        "    ucb = Xc @ theta_hat + alpha * np.sqrt(var_diag)           # length m\n",
        "\n",
        "    # Pick best candidate (ties broken by first occurrence)\n",
        "    local_idx = int(np.argmax(ucb))\n",
        "    i = candidates[local_idx]\n",
        "\n",
        "    # Record slug, bound-at-decision, and observed reward\n",
        "    picked_slugs.append(slugs[i])\n",
        "    picked_bounds.append(float(ucb[local_idx]))\n",
        "    picked_rewards.append(float(y[i]))\n",
        "\n",
        "    # Update A and b with chosen (z, r)\n",
        "    z = X[i, :]\n",
        "    r = y[i]\n",
        "    A += np.outer(z, z)\n",
        "    b += z * r\n",
        "\n",
        "    # Remove from pool (no repeats)\n",
        "    del candidates[local_idx]\n",
        "\n",
        "recommendations = pd.DataFrame({\n",
        "    \"recipe_slug\": picked_slugs,\n",
        "    \"score_bound\": picked_bounds,\n",
        "    \"reward\": picked_rewards\n",
        "})\n",
        "\n",
        "recommendations.to_csv(\"recommendations.tsv\", sep=\"\\t\", index=False)\n",
        "print(f\"Wrote recommendations.tsv with {len(recommendations)} rows and columns {list(recommendations.columns)}\")\n",
        "display(recommendations.head())\n"
      ]
    },
    {
      "cell_type": "markdown",
      "metadata": {
        "id": "23jv0cD0woSt"
      },
      "source": [
        "Submit \"recommendations.tsv\" in Gradescope."
      ]
    },
    {
      "cell_type": "markdown",
      "metadata": {
        "id": "zi8lV2pbvWMs"
      },
      "source": [
        "## Part 7: Acknowledgments\n",
        "\n",
        "Make a file \"acknowledgments.txt\" documenting any outside sources or help on this project.\n",
        "If you discussed this assignment with anyone, please acknowledge them here.\n",
        "If you used any libraries not mentioned in this module's content, please list them with a brief explanation what you used them for.\n",
        "If you used any generative AI tools, please add links to your transcripts below, and any other information that you feel is necessary to comply with the generative AI policy.\n",
        "If no acknowledgements are appropriate, just write none in the file.\n"
      ]
    },
    {
      "cell_type": "code",
      "execution_count": 25,
      "metadata": {},
      "outputs": [
        {
          "name": "stdout",
          "output_type": "stream",
          "text": [
            "Wrote acknowledgments.txt\n"
          ]
        }
      ],
      "source": [
        "ack = \"\"\"DX704 Week 4 Project — Acknowledgments\n",
        "\n",
        "Outside help:\n",
        "- None beyond course materials and standard library/documentation.\n",
        "\n",
        "Libraries used (beyond those explicitly mentioned in the module):\n",
        "- pandas: data loading, joins/reshaping, writing TSVs.\n",
        "- numpy: numeric arrays, linear algebra helpers.\n",
        "- scikit-learn (sklearn.linear_model.Ridge): ridge regression with fit_intercept=False.\n",
        "\n",
        "Generative AI usage:\n",
        "- Tool: ChatGPT (GPT-5 Thinking) by OpenAI.\n",
        "- Purpose: Assisted with drafting code cells for Parts 1–6 (data prep, ridge model, LinUCB bounds and online updates) and this acknowledgments file. I reviewed/edited code and verified outputs locally.\n",
        "\n",
        "\n",
        "Notes:\n",
        "- All final decisions, parameter choices, and submitted results are my own. I verified the correctness of the generated code and outputs before submission.\n",
        "\"\"\"\n",
        "\n",
        "with open(\"acknowledgments.txt\", \"w\", encoding=\"utf-8\") as f:\n",
        "    f.write(ack)\n",
        "\n",
        "print(\"Wrote acknowledgments.txt\")\n"
      ]
    },
    {
      "cell_type": "markdown",
      "metadata": {
        "id": "SuNJe62UxCoH"
      },
      "source": [
        "Submit \"acknowledgments.txt\" in Gradescope."
      ]
    },
    {
      "cell_type": "markdown",
      "metadata": {
        "id": "smsTLuFcvR-I"
      },
      "source": [
        "## Part 8: Code\n",
        "\n",
        "Please submit a Jupyter notebook that can reproduce all your calculations and recreate the previously submitted files.\n"
      ]
    },
    {
      "cell_type": "markdown",
      "metadata": {
        "id": "3cgzHyF7wxpr"
      },
      "source": [
        "Submit \"project.ipynb\" in Gradescope."
      ]
    }
  ],
  "metadata": {
    "colab": {
      "toc_visible": false
    },
    "kernelspec": {
      "display_name": "Python 3",
      "name": "python3"
    },
    "language_info": {
      "codemirror_mode": {
        "name": "ipython",
        "version": 3
      },
      "file_extension": ".py",
      "mimetype": "text/x-python",
      "name": "python",
      "nbconvert_exporter": "python",
      "pygments_lexer": "ipython3",
      "version": "3.12.1"
    }
  },
  "nbformat": 4,
  "nbformat_minor": 0
}
